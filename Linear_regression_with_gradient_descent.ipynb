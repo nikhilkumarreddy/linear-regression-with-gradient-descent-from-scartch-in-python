{
  "nbformat": 4,
  "nbformat_minor": 0,
  "metadata": {
    "colab": {
      "name": "Linear regression with gradient descent.ipynb",
      "provenance": []
    },
    "kernelspec": {
      "name": "python3",
      "display_name": "Python 3"
    }
  },
  "cells": [
    {
      "cell_type": "code",
      "metadata": {
        "id": "1lxVu_iF3DZY"
      },
      "source": [
        "x_train = [10, 20, 30, 40, 50]\n",
        "y_train = [1, 2, 3, 4, 5 ]\n",
        "x_test = [100, 110, 120, 130, 140]\n"
      ],
      "execution_count": null,
      "outputs": []
    },
    {
      "cell_type": "code",
      "metadata": {
        "id": "A7Z2XH8C6ArZ"
      },
      "source": [
        "#function for mean \n",
        "def mean(data):\n",
        "  return sum(data)/len(data)\n",
        "\n",
        "means = mean(x_train)\n"
      ],
      "execution_count": null,
      "outputs": []
    },
    {
      "cell_type": "code",
      "metadata": {
        "id": "KbuuU6547tpm",
        "outputId": "9d9575b8-5af8-40ba-eed6-8d86234d8be2",
        "colab": {
          "base_uri": "https://localhost:8080/",
          "height": 51
        }
      },
      "source": [
        "\n",
        "#function for variance and covariace to find b0 and b1\n",
        "\n",
        "# y = b0 + b1*x\n",
        "\n",
        "def variance(data ):\n",
        "  mean1 = mean((x_train))\n",
        "  variacne1 = 0\n",
        "  for i in range(0 , len(data)-1):\n",
        "    variacne1 += (data[i] - mean1)**2  \n",
        "  \n",
        "  return variacne1\n",
        "print(variance(x_train ))\n",
        "\n",
        "\n",
        "def covariace(data , data1 ):\n",
        "  covariace1 = 0 \n",
        "  mean_x_train = mean(data)\n",
        "  mean_y_train = mean(data1)\n",
        "  for i in range(0, len(data)-1):\n",
        "    covariace1 += (data[i] - mean_x_train) * (data1[i] - mean_y_train)\n",
        "\n",
        "  return covariace1\n",
        "print(covariace(x_train , y_train))\n"
      ],
      "execution_count": null,
      "outputs": [
        {
          "output_type": "stream",
          "text": [
            "600.0\n",
            "60.0\n"
          ],
          "name": "stdout"
        }
      ]
    },
    {
      "cell_type": "code",
      "metadata": {
        "id": "wOgS0IOq9QrW",
        "outputId": "46bd7108-85e7-4885-9100-91d9cdd86f3d",
        "colab": {
          "base_uri": "https://localhost:8080/",
          "height": 34
        }
      },
      "source": [
        "\n",
        "def coef(x_train , y_train , ):\n",
        "  #slope\n",
        "  b1 = covariace(x_train , y_train) / variance(x_train)\n",
        "  #constant\n",
        "  b0 = mean(y_train) - b1 * mean(x_train)\n",
        "\n",
        "  return b0 , b1 \n",
        "\n",
        "print(coef(x_train , y_train))\n"
      ],
      "execution_count": null,
      "outputs": [
        {
          "output_type": "stream",
          "text": [
            "(0.0, 0.1)\n"
          ],
          "name": "stdout"
        }
      ]
    },
    {
      "cell_type": "code",
      "metadata": {
        "id": "Ap3GNwE_CYGQ"
      },
      "source": [
        "\n",
        "#gradient decent for a single feature\n",
        "\n",
        "def gradient_decent(x_train , y_train , learning_rate , epoch):\n",
        "  m , b = 0 , 0 \n",
        "  mm = []\n",
        "  bb = []\n",
        "  length = len(x_train)\n",
        "\n",
        "  for _ in range(epoch):\n",
        "    total_sum1 = 0\n",
        "    total_sum2 = 0 \n",
        "    for i in range(0 , len(x_train)-1):\n",
        "       total_sum1 += (-2*x_train[i] * (y_train[i] - ( m*x_train[i] + b )))\n",
        "       total_sum2 += (-2 * (y_train[i] - ( m*x_train[i] + b )))\n",
        "\n",
        "    m_gradient = total_sum1/length\n",
        "    b_gradient = total_sum2/length\n",
        "\n",
        "\n",
        "    m -= learning_rate * m_gradient\n",
        "    b -= learning_rate * b_gradient\n",
        "    mm.append(m)\n",
        "    bb.append(b)\n",
        "\n",
        "\n",
        "  return m , b , mm , bb \n"
      ],
      "execution_count": null,
      "outputs": []
    },
    {
      "cell_type": "code",
      "metadata": {
        "id": "11bOumgRp69z",
        "outputId": "2fae9e87-c341-4857-8b5a-c8f30561a9c4",
        "colab": {
          "base_uri": "https://localhost:8080/",
          "height": 34
        }
      },
      "source": [
        "m , b , mm , bb  = gradient_decent(x_train , y_train , 0.001 , 250 )\n",
        "print(m , b  )\n"
      ],
      "execution_count": null,
      "outputs": [
        {
          "output_type": "stream",
          "text": [
            "0.09989611731997854 0.003115788618261591\n"
          ],
          "name": "stdout"
        }
      ]
    },
    {
      "cell_type": "code",
      "metadata": {
        "id": "ceiSuK9Dbr2L",
        "outputId": "b867a700-2d4e-4473-b375-ee95bff559cb",
        "colab": {
          "base_uri": "https://localhost:8080/",
          "height": 102
        }
      },
      "source": [
        "for  i in x_test:\n",
        "  print( i , \" = \" , m * i + b )"
      ],
      "execution_count": null,
      "outputs": [
        {
          "output_type": "stream",
          "text": [
            "100  =  9.992727520616116\n",
            "110  =  10.9916886938159\n",
            "120  =  11.990649867015685\n",
            "130  =  12.989611040215472\n",
            "140  =  13.988572213415257\n"
          ],
          "name": "stdout"
        }
      ]
    },
    {
      "cell_type": "code",
      "metadata": {
        "id": "GJeHmNiQqE5T",
        "outputId": "5fb22b48-210a-4239-dae0-6fa79fb686cf",
        "colab": {
          "base_uri": "https://localhost:8080/",
          "height": 51
        }
      },
      "source": [
        "\n",
        "#sochastic gradient decent \n",
        "\n"
      ],
      "execution_count": null,
      "outputs": [
        {
          "output_type": "stream",
          "text": [
            "14.98441759799678\n",
            "0.10099999999999999\n"
          ],
          "name": "stdout"
        }
      ]
    },
    {
      "cell_type": "code",
      "metadata": {
        "id": "wG_psSzV2eVA",
        "outputId": "dd12a56e-1e84-4087-ea86-b6776c415b7f",
        "colab": {
          "base_uri": "https://localhost:8080/",
          "height": 34
        }
      },
      "source": [
        "x_train"
      ],
      "execution_count": null,
      "outputs": [
        {
          "output_type": "execute_result",
          "data": {
            "text/plain": [
              "[10, 20, 30, 40, 50]"
            ]
          },
          "metadata": {
            "tags": []
          },
          "execution_count": 123
        }
      ]
    },
    {
      "cell_type": "code",
      "metadata": {
        "id": "LE4If-nGYSlA"
      },
      "source": [
        ""
      ],
      "execution_count": null,
      "outputs": []
    }
  ]
}